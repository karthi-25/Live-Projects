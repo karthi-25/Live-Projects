{
  "nbformat": 4,
  "nbformat_minor": 0,
  "metadata": {
    "colab": {
      "name": "web scraping for Havells product.ipynb",
      "provenance": []
    },
    "kernelspec": {
      "name": "python3",
      "display_name": "Python 3"
    },
    "language_info": {
      "name": "python"
    }
  },
  "cells": [
    {
      "cell_type": "code",
      "metadata": {
        "colab": {
          "base_uri": "https://localhost:8080/"
        },
        "id": "-EvBKkg0dkr8",
        "outputId": "4f10d9a2-73b5-4b86-dd7c-e745d07cc200"
      },
      "source": [
        "!pip install requests"
      ],
      "execution_count": 1,
      "outputs": [
        {
          "output_type": "stream",
          "text": [
            "Requirement already satisfied: requests in /usr/local/lib/python3.7/dist-packages (2.23.0)\n",
            "Requirement already satisfied: certifi>=2017.4.17 in /usr/local/lib/python3.7/dist-packages (from requests) (2020.12.5)\n",
            "Requirement already satisfied: urllib3!=1.25.0,!=1.25.1,<1.26,>=1.21.1 in /usr/local/lib/python3.7/dist-packages (from requests) (1.24.3)\n",
            "Requirement already satisfied: idna<3,>=2.5 in /usr/local/lib/python3.7/dist-packages (from requests) (2.10)\n",
            "Requirement already satisfied: chardet<4,>=3.0.2 in /usr/local/lib/python3.7/dist-packages (from requests) (3.0.4)\n"
          ],
          "name": "stdout"
        }
      ]
    },
    {
      "cell_type": "code",
      "metadata": {
        "colab": {
          "base_uri": "https://localhost:8080/"
        },
        "id": "6ST-YT-Gd-OM",
        "outputId": "c82c2ec5-ed3d-4b79-efdd-a712c2915df8"
      },
      "source": [
        "!pip install beautifulsoup4"
      ],
      "execution_count": 2,
      "outputs": [
        {
          "output_type": "stream",
          "text": [
            "Requirement already satisfied: beautifulsoup4 in /usr/local/lib/python3.7/dist-packages (4.6.3)\n"
          ],
          "name": "stdout"
        }
      ]
    },
    {
      "cell_type": "code",
      "metadata": {
        "id": "UU-_Cy83eCzV"
      },
      "source": [
        "import requests\n",
        "from bs4 import BeautifulSoup"
      ],
      "execution_count": 3,
      "outputs": []
    },
    {
      "cell_type": "code",
      "metadata": {
        "id": "QcsFucHUa_G2"
      },
      "source": [
        "cust_name = []\n",
        "rev_date = []\n",
        "ratings = []\n",
        "rev_title = []\n",
        "rev_content = []\n",
        "for page in range(1,44):\n",
        "  url = \"https://www.amazon.in/Havells-Prolife-Digi-1230-Watt-Fryer/product-reviews/B01LWUEDJI/ref=cm_cr_arp_d_paging_btm_next_2?ie=UTF8&reviewerType=all_reviews&pageNumber=\"+str(page)\n",
        "  code = requests.get(url)\n",
        "  if str(code) == \"<Response [200]>\":\n",
        "    soup = BeautifulSoup(code.content,'html.parser')\n",
        "    names = soup.select('span.a-profile-name')[2:]\n",
        "    titles = soup.select('a.review-title')\n",
        "    dates = soup.select('span.review-date')[2:]\n",
        "    stars = soup.select('i.review-rating')[2:]\n",
        "    reviews = soup.select('span.review-text-content')\n",
        "    for i in range(len(names)):\n",
        "      cust_name.append(names[i].get_text())\n",
        "      rev_date.append(dates[i].get_text().replace(\"Reviewed in India on \",\"\"))\n",
        "      ratings.append(stars[i].get_text())\n",
        "      rev_title.append(titles[i].get_text().strip(\"\\n\"))\n",
        "      rev_content.append(reviews[i].get_text().strip(\"\\n \"))"
      ],
      "execution_count": 4,
      "outputs": []
    },
    {
      "cell_type": "code",
      "metadata": {
        "id": "rCcuEK6kfoah"
      },
      "source": [
        "import pandas as pd"
      ],
      "execution_count": 5,
      "outputs": []
    },
    {
      "cell_type": "code",
      "metadata": {
        "id": "hPg_PVhFfrj8"
      },
      "source": [
        "df = pd.DataFrame()\n",
        "df['Customer Name'] = cust_name\n",
        "df['Date'] = rev_date\n",
        "df['Ratings'] = ratings\n",
        "df['Review Title'] = rev_title\n",
        "df['Reviews'] = rev_content\n"
      ],
      "execution_count": 6,
      "outputs": []
    },
    {
      "cell_type": "code",
      "metadata": {
        "colab": {
          "base_uri": "https://localhost:8080/",
          "height": 405
        },
        "id": "VvkNaApFfyLT",
        "outputId": "3c1b2d9e-b8cd-41a2-9dad-a2ca4fe56860"
      },
      "source": [
        "df"
      ],
      "execution_count": 7,
      "outputs": [
        {
          "output_type": "execute_result",
          "data": {
            "text/html": [
              "<div>\n",
              "<style scoped>\n",
              "    .dataframe tbody tr th:only-of-type {\n",
              "        vertical-align: middle;\n",
              "    }\n",
              "\n",
              "    .dataframe tbody tr th {\n",
              "        vertical-align: top;\n",
              "    }\n",
              "\n",
              "    .dataframe thead th {\n",
              "        text-align: right;\n",
              "    }\n",
              "</style>\n",
              "<table border=\"1\" class=\"dataframe\">\n",
              "  <thead>\n",
              "    <tr style=\"text-align: right;\">\n",
              "      <th></th>\n",
              "      <th>Customer Name</th>\n",
              "      <th>Date</th>\n",
              "      <th>Ratings</th>\n",
              "      <th>Review Title</th>\n",
              "      <th>Reviews</th>\n",
              "    </tr>\n",
              "  </thead>\n",
              "  <tbody>\n",
              "    <tr>\n",
              "      <th>0</th>\n",
              "      <td>Sumit Kumar</td>\n",
              "      <td>26 May 2020</td>\n",
              "      <td>5.0 out of 5 stars</td>\n",
              "      <td>Eat healthy and stay fit!!Worth every penny!!</td>\n",
              "      <td>Well,my husband and I have been wanting to buy...</td>\n",
              "    </tr>\n",
              "    <tr>\n",
              "      <th>1</th>\n",
              "      <td>Aastha</td>\n",
              "      <td>30 November 2018</td>\n",
              "      <td>5.0 out of 5 stars</td>\n",
              "      <td>Worth it</td>\n",
              "      <td>This product is really great...u just have to ...</td>\n",
              "    </tr>\n",
              "    <tr>\n",
              "      <th>2</th>\n",
              "      <td>Shekhar</td>\n",
              "      <td>14 August 2020</td>\n",
              "      <td>1.0 out of 5 stars</td>\n",
              "      <td>Disappointed with first Havells purchase!</td>\n",
              "      <td>The instruction manual was missing.The recipe ...</td>\n",
              "    </tr>\n",
              "    <tr>\n",
              "      <th>3</th>\n",
              "      <td>Amazon Customer</td>\n",
              "      <td>6 December 2019</td>\n",
              "      <td>1.0 out of 5 stars</td>\n",
              "      <td>Worst service from Havells</td>\n",
              "      <td>This rating is for Havells service. Sorry to s...</td>\n",
              "    </tr>\n",
              "    <tr>\n",
              "      <th>4</th>\n",
              "      <td>atul;</td>\n",
              "      <td>11 August 2020</td>\n",
              "      <td>4.0 out of 5 stars</td>\n",
              "      <td>No User Manual Or Recipe book along with deliv...</td>\n",
              "      <td>Product was delivered in a carton box which ha...</td>\n",
              "    </tr>\n",
              "    <tr>\n",
              "      <th>...</th>\n",
              "      <td>...</td>\n",
              "      <td>...</td>\n",
              "      <td>...</td>\n",
              "      <td>...</td>\n",
              "      <td>...</td>\n",
              "    </tr>\n",
              "    <tr>\n",
              "      <th>295</th>\n",
              "      <td>Ravi</td>\n",
              "      <td>31 July 2017</td>\n",
              "      <td>5.0 out of 5 stars</td>\n",
              "      <td>Five Stars</td>\n",
              "      <td>nice product.</td>\n",
              "    </tr>\n",
              "    <tr>\n",
              "      <th>296</th>\n",
              "      <td>Siddharath</td>\n",
              "      <td>17 March 2017</td>\n",
              "      <td>5.0 out of 5 stars</td>\n",
              "      <td>Five Stars</td>\n",
              "      <td>perfect as quoted .....</td>\n",
              "    </tr>\n",
              "    <tr>\n",
              "      <th>297</th>\n",
              "      <td>Amazon Customer</td>\n",
              "      <td>21 March 2017</td>\n",
              "      <td>4.0 out of 5 stars</td>\n",
              "      <td>Four Stars</td>\n",
              "      <td>nice product</td>\n",
              "    </tr>\n",
              "    <tr>\n",
              "      <th>298</th>\n",
              "      <td>Ranabir Ghosh</td>\n",
              "      <td>1 May 2017</td>\n",
              "      <td>5.0 out of 5 stars</td>\n",
              "      <td>Good product</td>\n",
              "      <td>Worth buying. Easy to clean and use.</td>\n",
              "    </tr>\n",
              "    <tr>\n",
              "      <th>299</th>\n",
              "      <td>Amazon Customer</td>\n",
              "      <td>4 October 2019</td>\n",
              "      <td>2.0 out of 5 stars</td>\n",
              "      <td>Buy Phillips</td>\n",
              "      <td>I bought Havel's digi from a shop and mine is ...</td>\n",
              "    </tr>\n",
              "  </tbody>\n",
              "</table>\n",
              "<p>300 rows × 5 columns</p>\n",
              "</div>"
            ],
            "text/plain": [
              "       Customer Name  ...                                            Reviews\n",
              "0        Sumit Kumar  ...  Well,my husband and I have been wanting to buy...\n",
              "1             Aastha  ...  This product is really great...u just have to ...\n",
              "2            Shekhar  ...  The instruction manual was missing.The recipe ...\n",
              "3    Amazon Customer  ...  This rating is for Havells service. Sorry to s...\n",
              "4              atul;  ...  Product was delivered in a carton box which ha...\n",
              "..               ...  ...                                                ...\n",
              "295             Ravi  ...                                      nice product.\n",
              "296       Siddharath  ...                            perfect as quoted .....\n",
              "297  Amazon Customer  ...                                       nice product\n",
              "298    Ranabir Ghosh  ...               Worth buying. Easy to clean and use.\n",
              "299  Amazon Customer  ...  I bought Havel's digi from a shop and mine is ...\n",
              "\n",
              "[300 rows x 5 columns]"
            ]
          },
          "metadata": {
            "tags": []
          },
          "execution_count": 7
        }
      ]
    },
    {
      "cell_type": "code",
      "metadata": {
        "colab": {
          "base_uri": "https://localhost:8080/"
        },
        "id": "f3bG_dW0fy3V",
        "outputId": "58acd20f-282d-4efb-c547-42ccf91f9c9e"
      },
      "source": [
        "df.duplicated().sum()"
      ],
      "execution_count": 9,
      "outputs": [
        {
          "output_type": "execute_result",
          "data": {
            "text/plain": [
              "0"
            ]
          },
          "metadata": {
            "tags": []
          },
          "execution_count": 9
        }
      ]
    },
    {
      "cell_type": "code",
      "metadata": {
        "id": "5yTXjt9kf4O0"
      },
      "source": [
        "df.to_csv(\"Havells amazon.csv\")"
      ],
      "execution_count": 10,
      "outputs": []
    },
    {
      "cell_type": "code",
      "metadata": {
        "id": "QblfcsOQgANj"
      },
      "source": [
        ""
      ],
      "execution_count": null,
      "outputs": []
    }
  ]
}