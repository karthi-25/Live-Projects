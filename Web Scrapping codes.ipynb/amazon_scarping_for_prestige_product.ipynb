{
  "nbformat": 4,
  "nbformat_minor": 0,
  "metadata": {
    "colab": {
      "name": "amazon scarping for prestige product.ipynb",
      "provenance": []
    },
    "kernelspec": {
      "name": "python3",
      "display_name": "Python 3"
    },
    "language_info": {
      "name": "python"
    }
  },
  "cells": [
    {
      "cell_type": "code",
      "metadata": {
        "colab": {
          "base_uri": "https://localhost:8080/"
        },
        "id": "-Ca3DyYsgJXp",
        "outputId": "3509bce0-a4c5-4ba1-8eef-a39e7668eaf5"
      },
      "source": [
        "!pip install requests"
      ],
      "execution_count": 1,
      "outputs": [
        {
          "output_type": "stream",
          "text": [
            "Requirement already satisfied: requests in /usr/local/lib/python3.7/dist-packages (2.23.0)\n",
            "Requirement already satisfied: certifi>=2017.4.17 in /usr/local/lib/python3.7/dist-packages (from requests) (2020.12.5)\n",
            "Requirement already satisfied: chardet<4,>=3.0.2 in /usr/local/lib/python3.7/dist-packages (from requests) (3.0.4)\n",
            "Requirement already satisfied: idna<3,>=2.5 in /usr/local/lib/python3.7/dist-packages (from requests) (2.10)\n",
            "Requirement already satisfied: urllib3!=1.25.0,!=1.25.1,<1.26,>=1.21.1 in /usr/local/lib/python3.7/dist-packages (from requests) (1.24.3)\n"
          ],
          "name": "stdout"
        }
      ]
    },
    {
      "cell_type": "code",
      "metadata": {
        "colab": {
          "base_uri": "https://localhost:8080/"
        },
        "id": "YXcaEBGegRp7",
        "outputId": "85269c20-b4a8-40ba-c2c9-4c1655fcad06"
      },
      "source": [
        "!pip install beautifulsoup4"
      ],
      "execution_count": 2,
      "outputs": [
        {
          "output_type": "stream",
          "text": [
            "Requirement already satisfied: beautifulsoup4 in /usr/local/lib/python3.7/dist-packages (4.6.3)\n"
          ],
          "name": "stdout"
        }
      ]
    },
    {
      "cell_type": "code",
      "metadata": {
        "id": "Qm32Rd8QgWC0"
      },
      "source": [
        "import requests\n",
        "from bs4 import BeautifulSoup"
      ],
      "execution_count": 3,
      "outputs": []
    },
    {
      "cell_type": "code",
      "metadata": {
        "id": "QcsFucHUa_G2"
      },
      "source": [
        "cust_name = []\n",
        "rev_date = []\n",
        "ratings = []\n",
        "rev_title = []\n",
        "rev_content = []\n",
        "for page in range(1,21):\n",
        "  url = \"https://www.amazon.in/Prestige-PAF-4-0-2-2-Litre-Fryer/product-reviews/B01JP4NCJW/ref=cm_cr_arp_d_paging_btm_next_2?ie=UTF8&reviewerType=all_reviews&pageNumber=\"+str(page)\n",
        "  code = requests.get(url)\n",
        "  if str(code) == \"<Response [200]>\":\n",
        "    soup = BeautifulSoup(code.content,'html.parser')\n",
        "    names = soup.select('span.a-profile-name')[2:]\n",
        "    titles = soup.select('a.review-title')\n",
        "    dates = soup.select('span.review-date')[2:]\n",
        "    stars = soup.select('i.review-rating')[2:]\n",
        "    reviews = soup.select('span.review-text-content')\n",
        "    for i in range(len(names)):\n",
        "      cust_name.append(names[i].get_text())\n",
        "      rev_date.append(dates[i].get_text().replace(\"Reviewed in India on \",\"\"))\n",
        "      ratings.append(stars[i].get_text())\n",
        "      rev_title.append(titles[i].get_text().strip(\"\\n\"))\n",
        "      rev_content.append(reviews[i].get_text().strip(\"\\n \"))"
      ],
      "execution_count": 4,
      "outputs": []
    },
    {
      "cell_type": "code",
      "metadata": {
        "id": "44O-StichjDI"
      },
      "source": [
        "import pandas as pd"
      ],
      "execution_count": 5,
      "outputs": []
    },
    {
      "cell_type": "code",
      "metadata": {
        "id": "MlIjn4V2hk4c"
      },
      "source": [
        "df = pd.DataFrame()\n",
        "df['Customer Name'] = cust_name\n",
        "df['Date'] = rev_date\n",
        "df['Ratings'] = ratings\n",
        "df['Review Title'] = rev_title\n",
        "df['Reviews'] = rev_content\n"
      ],
      "execution_count": 6,
      "outputs": []
    },
    {
      "cell_type": "code",
      "metadata": {
        "colab": {
          "base_uri": "https://localhost:8080/",
          "height": 405
        },
        "id": "yCtJ2RWuhp30",
        "outputId": "03a50271-6a92-42f1-f2b7-9f1d5d15b454"
      },
      "source": [
        "df"
      ],
      "execution_count": 7,
      "outputs": [
        {
          "output_type": "execute_result",
          "data": {
            "text/html": [
              "<div>\n",
              "<style scoped>\n",
              "    .dataframe tbody tr th:only-of-type {\n",
              "        vertical-align: middle;\n",
              "    }\n",
              "\n",
              "    .dataframe tbody tr th {\n",
              "        vertical-align: top;\n",
              "    }\n",
              "\n",
              "    .dataframe thead th {\n",
              "        text-align: right;\n",
              "    }\n",
              "</style>\n",
              "<table border=\"1\" class=\"dataframe\">\n",
              "  <thead>\n",
              "    <tr style=\"text-align: right;\">\n",
              "      <th></th>\n",
              "      <th>Customer Name</th>\n",
              "      <th>Date</th>\n",
              "      <th>Ratings</th>\n",
              "      <th>Review Title</th>\n",
              "      <th>Reviews</th>\n",
              "    </tr>\n",
              "  </thead>\n",
              "  <tbody>\n",
              "    <tr>\n",
              "      <th>0</th>\n",
              "      <td>Simmi Dhawan</td>\n",
              "      <td>13 March 2019</td>\n",
              "      <td>1.0 out of 5 stars</td>\n",
              "      <td>Worst experience..new product not working</td>\n",
              "      <td>Product not working..have gifted it on 9th Feb...</td>\n",
              "    </tr>\n",
              "    <tr>\n",
              "      <th>1</th>\n",
              "      <td>Amazon Customer</td>\n",
              "      <td>19 September 2020</td>\n",
              "      <td>1.0 out of 5 stars</td>\n",
              "      <td>Damaged product - Does not power on</td>\n",
              "      <td>The packaging seemed old snd sleeady tanoered ...</td>\n",
              "    </tr>\n",
              "    <tr>\n",
              "      <th>2</th>\n",
              "      <td>Amazon Customer</td>\n",
              "      <td>13 September 2019</td>\n",
              "      <td>1.0 out of 5 stars</td>\n",
              "      <td>No refund of amount after 10 days</td>\n",
              "      <td>The product doesn't work. I returned it once a...</td>\n",
              "    </tr>\n",
              "    <tr>\n",
              "      <th>3</th>\n",
              "      <td>Abhishek</td>\n",
              "      <td>30 August 2020</td>\n",
              "      <td>1.0 out of 5 stars</td>\n",
              "      <td>Brand image</td>\n",
              "      <td>Received a damaged product. The machine doesn'...</td>\n",
              "    </tr>\n",
              "    <tr>\n",
              "      <th>4</th>\n",
              "      <td>Sundarrajan P R</td>\n",
              "      <td>16 October 2020</td>\n",
              "      <td>5.0 out of 5 stars</td>\n",
              "      <td>Good but not the Best</td>\n",
              "      <td>Not a best for Veg since optimum utilisation s...</td>\n",
              "    </tr>\n",
              "    <tr>\n",
              "      <th>...</th>\n",
              "      <td>...</td>\n",
              "      <td>...</td>\n",
              "      <td>...</td>\n",
              "      <td>...</td>\n",
              "      <td>...</td>\n",
              "    </tr>\n",
              "    <tr>\n",
              "      <th>165</th>\n",
              "      <td>Vaibhav</td>\n",
              "      <td>23 November 2018</td>\n",
              "      <td>4.0 out of 5 stars</td>\n",
              "      <td>Super Product</td>\n",
              "      <td>I buy this for gifting purpose...It is great t...</td>\n",
              "    </tr>\n",
              "    <tr>\n",
              "      <th>166</th>\n",
              "      <td>Satya</td>\n",
              "      <td>25 October 2019</td>\n",
              "      <td>5.0 out of 5 stars</td>\n",
              "      <td>Prestige PAF 4.0 2.2-Litre Air Fryer (Black)</td>\n",
              "      <td>Good</td>\n",
              "    </tr>\n",
              "    <tr>\n",
              "      <th>167</th>\n",
              "      <td>pc sharma</td>\n",
              "      <td>18 August 2020</td>\n",
              "      <td>1.0 out of 5 stars</td>\n",
              "      <td>Higher temp is not more than 200</td>\n",
              "      <td>Did not serve the purpose.</td>\n",
              "    </tr>\n",
              "    <tr>\n",
              "      <th>168</th>\n",
              "      <td>kart</td>\n",
              "      <td>31 August 2020</td>\n",
              "      <td>1.0 out of 5 stars</td>\n",
              "      <td>Don't buy this product, handle broken</td>\n",
              "      <td>Damage product,handle is broken</td>\n",
              "    </tr>\n",
              "    <tr>\n",
              "      <th>169</th>\n",
              "      <td>Siddhant Jain</td>\n",
              "      <td>1 June 2017</td>\n",
              "      <td>5.0 out of 5 stars</td>\n",
              "      <td>Five Stars</td>\n",
              "      <td>good quality product.</td>\n",
              "    </tr>\n",
              "  </tbody>\n",
              "</table>\n",
              "<p>170 rows × 5 columns</p>\n",
              "</div>"
            ],
            "text/plain": [
              "       Customer Name  ...                                            Reviews\n",
              "0       Simmi Dhawan  ...  Product not working..have gifted it on 9th Feb...\n",
              "1    Amazon Customer  ...  The packaging seemed old snd sleeady tanoered ...\n",
              "2    Amazon Customer  ...  The product doesn't work. I returned it once a...\n",
              "3           Abhishek  ...  Received a damaged product. The machine doesn'...\n",
              "4    Sundarrajan P R  ...  Not a best for Veg since optimum utilisation s...\n",
              "..               ...  ...                                                ...\n",
              "165          Vaibhav  ...  I buy this for gifting purpose...It is great t...\n",
              "166            Satya  ...                                               Good\n",
              "167        pc sharma  ...                         Did not serve the purpose.\n",
              "168             kart  ...                    Damage product,handle is broken\n",
              "169    Siddhant Jain  ...                              good quality product.\n",
              "\n",
              "[170 rows x 5 columns]"
            ]
          },
          "metadata": {
            "tags": []
          },
          "execution_count": 7
        }
      ]
    },
    {
      "cell_type": "code",
      "metadata": {
        "colab": {
          "base_uri": "https://localhost:8080/"
        },
        "id": "SRwNzkRthqeq",
        "outputId": "7268dd6e-342a-4c0e-9659-3e942fb79257"
      },
      "source": [
        "df.duplicated().sum()"
      ],
      "execution_count": 8,
      "outputs": [
        {
          "output_type": "execute_result",
          "data": {
            "text/plain": [
              "0"
            ]
          },
          "metadata": {
            "tags": []
          },
          "execution_count": 8
        }
      ]
    },
    {
      "cell_type": "code",
      "metadata": {
        "id": "XaFRXn3Th4Nq"
      },
      "source": [
        "df.to_csv(\"Prestige amazon.csv\")"
      ],
      "execution_count": 10,
      "outputs": []
    },
    {
      "cell_type": "code",
      "metadata": {
        "id": "V-y1IiL6h6RF"
      },
      "source": [
        ""
      ],
      "execution_count": null,
      "outputs": []
    }
  ]
}