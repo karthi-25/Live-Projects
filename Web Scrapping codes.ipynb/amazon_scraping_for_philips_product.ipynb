{
  "nbformat": 4,
  "nbformat_minor": 0,
  "metadata": {
    "colab": {
      "name": "amazon scraping for philips product.ipynb",
      "provenance": []
    },
    "kernelspec": {
      "name": "python3",
      "display_name": "Python 3"
    },
    "language_info": {
      "name": "python"
    }
  },
  "cells": [
    {
      "cell_type": "code",
      "metadata": {
        "id": "hOEcrZ29SAsx",
        "colab": {
          "base_uri": "https://localhost:8080/"
        },
        "outputId": "dbbd8afb-48d7-4833-f49b-79b4158177fc"
      },
      "source": [
        "!pip install requests"
      ],
      "execution_count": 1,
      "outputs": [
        {
          "output_type": "stream",
          "text": [
            "Requirement already satisfied: requests in /usr/local/lib/python3.7/dist-packages (2.23.0)\n",
            "Requirement already satisfied: idna<3,>=2.5 in /usr/local/lib/python3.7/dist-packages (from requests) (2.10)\n",
            "Requirement already satisfied: urllib3!=1.25.0,!=1.25.1,<1.26,>=1.21.1 in /usr/local/lib/python3.7/dist-packages (from requests) (1.24.3)\n",
            "Requirement already satisfied: chardet<4,>=3.0.2 in /usr/local/lib/python3.7/dist-packages (from requests) (3.0.4)\n",
            "Requirement already satisfied: certifi>=2017.4.17 in /usr/local/lib/python3.7/dist-packages (from requests) (2020.12.5)\n"
          ],
          "name": "stdout"
        }
      ]
    },
    {
      "cell_type": "code",
      "metadata": {
        "colab": {
          "base_uri": "https://localhost:8080/"
        },
        "id": "HN418FAbanu6",
        "outputId": "58e6733e-1f42-4982-dfb2-e2f11772df35"
      },
      "source": [
        "!pip install beautifulsoup4"
      ],
      "execution_count": 2,
      "outputs": [
        {
          "output_type": "stream",
          "text": [
            "Requirement already satisfied: beautifulsoup4 in /usr/local/lib/python3.7/dist-packages (4.6.3)\n"
          ],
          "name": "stdout"
        }
      ]
    },
    {
      "cell_type": "code",
      "metadata": {
        "id": "qM1itpzAarvN"
      },
      "source": [
        "import requests\n",
        "from bs4 import BeautifulSoup"
      ],
      "execution_count": 3,
      "outputs": []
    },
    {
      "cell_type": "code",
      "metadata": {
        "id": "QcsFucHUa_G2"
      },
      "source": [
        "cust_name = []\n",
        "rev_date = []\n",
        "ratings = []\n",
        "rev_title = []\n",
        "rev_content = []\n",
        "for page in range(1,120):\n",
        "  url = \"https://www.amazon.in/Philips-Daily-Collection-HD9218-Technology/product-reviews/B085PWPMXY/ref=cm_cr_arp_d_paging_btm_next_2?ie=UTF8&reviewerType=all_reviews&pageNumber=\"+str(page)\n",
        "  code = requests.get(url)\n",
        "  if str(code) == \"<Response [200]>\":\n",
        "    soup = BeautifulSoup(code.content,'html.parser')\n",
        "    names = soup.select('span.a-profile-name')[2:]\n",
        "    titles = soup.select('a.review-title')\n",
        "    dates = soup.select('span.review-date')[2:]\n",
        "    stars = soup.select('i.review-rating')[2:]\n",
        "    reviews = soup.select('span.review-text-content span')\n",
        "    for i in range(len(names)):\n",
        "      cust_name.append(names[i].get_text())\n",
        "      rev_date.append(dates[i].get_text().replace(\"Reviewed in India on \",\"\"))\n",
        "      ratings.append(stars[i].get_text())\n",
        "      rev_title.append(titles[i].get_text().strip(\"\\n\"))\n",
        "      rev_content.append(reviews[i].get_text().strip(\"\\n \"))"
      ],
      "execution_count": 15,
      "outputs": []
    },
    {
      "cell_type": "code",
      "metadata": {
        "id": "qrettA6CcN29"
      },
      "source": [
        "import pandas as pd"
      ],
      "execution_count": 6,
      "outputs": []
    },
    {
      "cell_type": "code",
      "metadata": {
        "id": "rYRxfW13a_RC"
      },
      "source": [
        "df = pd.DataFrame()\n",
        "df['Customer Name'] = cust_name\n",
        "df['Date'] = rev_date\n",
        "df['Ratings'] = ratings\n",
        "df['Review Title'] = rev_title\n",
        "df['Reviews'] = rev_content\n"
      ],
      "execution_count": 16,
      "outputs": []
    },
    {
      "cell_type": "code",
      "metadata": {
        "colab": {
          "base_uri": "https://localhost:8080/",
          "height": 405
        },
        "id": "jQSSLIPkbA3M",
        "outputId": "d506dc5b-1452-4ab4-97fb-04043b40c053"
      },
      "source": [
        "df"
      ],
      "execution_count": 17,
      "outputs": [
        {
          "output_type": "execute_result",
          "data": {
            "text/html": [
              "<div>\n",
              "<style scoped>\n",
              "    .dataframe tbody tr th:only-of-type {\n",
              "        vertical-align: middle;\n",
              "    }\n",
              "\n",
              "    .dataframe tbody tr th {\n",
              "        vertical-align: top;\n",
              "    }\n",
              "\n",
              "    .dataframe thead th {\n",
              "        text-align: right;\n",
              "    }\n",
              "</style>\n",
              "<table border=\"1\" class=\"dataframe\">\n",
              "  <thead>\n",
              "    <tr style=\"text-align: right;\">\n",
              "      <th></th>\n",
              "      <th>Customer Name</th>\n",
              "      <th>Date</th>\n",
              "      <th>Ratings</th>\n",
              "      <th>Review Title</th>\n",
              "      <th>Reviews</th>\n",
              "    </tr>\n",
              "  </thead>\n",
              "  <tbody>\n",
              "    <tr>\n",
              "      <th>0</th>\n",
              "      <td>Handa</td>\n",
              "      <td>7 September 2018</td>\n",
              "      <td>1.0 out of 5 stars</td>\n",
              "      <td>Damaged product</td>\n",
              "      <td>Received damaged productAll scratched</td>\n",
              "    </tr>\n",
              "    <tr>\n",
              "      <th>1</th>\n",
              "      <td>Aishwarya V</td>\n",
              "      <td>26 August 2018</td>\n",
              "      <td>5.0 out of 5 stars</td>\n",
              "      <td>My mother loves it!</td>\n",
              "      <td>Gifted this to my mother. She was reluctant to...</td>\n",
              "    </tr>\n",
              "    <tr>\n",
              "      <th>2</th>\n",
              "      <td>Anubha Jha</td>\n",
              "      <td>11 January 2019</td>\n",
              "      <td>1.0 out of 5 stars</td>\n",
              "      <td>Broken - Be aware</td>\n",
              "      <td>My product was broken when it arrived. Unfortu...</td>\n",
              "    </tr>\n",
              "    <tr>\n",
              "      <th>3</th>\n",
              "      <td>Kshitij Gupta</td>\n",
              "      <td>9 July 2020</td>\n",
              "      <td>4.0 out of 5 stars</td>\n",
              "      <td>No recipe book!!</td>\n",
              "      <td>It is definitely easy to use n totally mess fr...</td>\n",
              "    </tr>\n",
              "    <tr>\n",
              "      <th>4</th>\n",
              "      <td>Amazon Customer</td>\n",
              "      <td>27 October 2018</td>\n",
              "      <td>1.0 out of 5 stars</td>\n",
              "      <td>very upset need a refund</td>\n",
              "      <td>Finally unboxed the item and tried to cook fri...</td>\n",
              "    </tr>\n",
              "    <tr>\n",
              "      <th>...</th>\n",
              "      <td>...</td>\n",
              "      <td>...</td>\n",
              "      <td>...</td>\n",
              "      <td>...</td>\n",
              "      <td>...</td>\n",
              "    </tr>\n",
              "    <tr>\n",
              "      <th>655</th>\n",
              "      <td>Seshu kumar</td>\n",
              "      <td>13 November 2014</td>\n",
              "      <td>3.0 out of 5 stars</td>\n",
              "      <td>Phillips viva air fryer is a useful item consi...</td>\n",
              "      <td>Phillips viva air fryer is a useful item consi...</td>\n",
              "    </tr>\n",
              "    <tr>\n",
              "      <th>656</th>\n",
              "      <td>Ashish Banerjee</td>\n",
              "      <td>6 February 2015</td>\n",
              "      <td>5.0 out of 5 stars</td>\n",
              "      <td>original taste, easy cooking and healthy stuff</td>\n",
              "      <td>This is a very good product. Since I got this ...</td>\n",
              "    </tr>\n",
              "    <tr>\n",
              "      <th>657</th>\n",
              "      <td>Reena Ganguly</td>\n",
              "      <td>29 January 2015</td>\n",
              "      <td>5.0 out of 5 stars</td>\n",
              "      <td>I received the philips air fryer in perfect co...</td>\n",
              "      <td>Thanks , Amazon ! ! I received the philips air...</td>\n",
              "    </tr>\n",
              "    <tr>\n",
              "      <th>658</th>\n",
              "      <td>Samrat Ahuja</td>\n",
              "      <td>26 August 2014</td>\n",
              "      <td>4.0 out of 5 stars</td>\n",
              "      <td>Nice innovation and a big thumbs up</td>\n",
              "      <td>First of all, kudos to Amazon for a fine deliv...</td>\n",
              "    </tr>\n",
              "    <tr>\n",
              "      <th>659</th>\n",
              "      <td>mohit mittal</td>\n",
              "      <td>7 March 2015</td>\n",
              "      <td>4.0 out of 5 stars</td>\n",
              "      <td>good for non veg</td>\n",
              "      <td>Hi I purchased this fryer from Amazon around w...</td>\n",
              "    </tr>\n",
              "  </tbody>\n",
              "</table>\n",
              "<p>660 rows × 5 columns</p>\n",
              "</div>"
            ],
            "text/plain": [
              "       Customer Name  ...                                            Reviews\n",
              "0              Handa  ...              Received damaged productAll scratched\n",
              "1        Aishwarya V  ...  Gifted this to my mother. She was reluctant to...\n",
              "2         Anubha Jha  ...  My product was broken when it arrived. Unfortu...\n",
              "3      Kshitij Gupta  ...  It is definitely easy to use n totally mess fr...\n",
              "4    Amazon Customer  ...  Finally unboxed the item and tried to cook fri...\n",
              "..               ...  ...                                                ...\n",
              "655      Seshu kumar  ...  Phillips viva air fryer is a useful item consi...\n",
              "656  Ashish Banerjee  ...  This is a very good product. Since I got this ...\n",
              "657    Reena Ganguly  ...  Thanks , Amazon ! ! I received the philips air...\n",
              "658     Samrat Ahuja  ...  First of all, kudos to Amazon for a fine deliv...\n",
              "659     mohit mittal  ...  Hi I purchased this fryer from Amazon around w...\n",
              "\n",
              "[660 rows x 5 columns]"
            ]
          },
          "metadata": {
            "tags": []
          },
          "execution_count": 17
        }
      ]
    },
    {
      "cell_type": "code",
      "metadata": {
        "colab": {
          "base_uri": "https://localhost:8080/"
        },
        "id": "WxV2iwRBbCAP",
        "outputId": "0b20377d-0805-40a8-ccd0-7419a7a1d829"
      },
      "source": [
        "df.duplicated().sum()"
      ],
      "execution_count": 18,
      "outputs": [
        {
          "output_type": "execute_result",
          "data": {
            "text/plain": [
              "0"
            ]
          },
          "metadata": {
            "tags": []
          },
          "execution_count": 18
        }
      ]
    },
    {
      "cell_type": "code",
      "metadata": {
        "id": "bPltfrI8dFq6"
      },
      "source": [
        "df.to_csv(\"philips amazon csv\")"
      ],
      "execution_count": 19,
      "outputs": []
    },
    {
      "cell_type": "code",
      "metadata": {
        "id": "nMfk4inVdF3x"
      },
      "source": [
        ""
      ],
      "execution_count": null,
      "outputs": []
    }
  ]
}